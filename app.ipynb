{
 "cells": [
  {
   "cell_type": "code",
   "execution_count": 8,
   "id": "969e119b-67cb-4959-aff0-ec14de1ba4c9",
   "metadata": {},
   "outputs": [
    {
     "name": "stderr",
     "output_type": "stream",
     "text": [
      "2025-01-21 12:27:05.675 Thread 'MainThread': missing ScriptRunContext! This warning can be ignored when running in bare mode.\n",
      "2025-01-21 12:27:05.676 Thread 'MainThread': missing ScriptRunContext! This warning can be ignored when running in bare mode.\n",
      "2025-01-21 12:27:05.677 Thread 'MainThread': missing ScriptRunContext! This warning can be ignored when running in bare mode.\n",
      "2025-01-21 12:27:05.677 Thread 'MainThread': missing ScriptRunContext! This warning can be ignored when running in bare mode.\n",
      "2025-01-21 12:27:05.678 Thread 'MainThread': missing ScriptRunContext! This warning can be ignored when running in bare mode.\n",
      "2025-01-21 12:27:05.679 Thread 'MainThread': missing ScriptRunContext! This warning can be ignored when running in bare mode.\n",
      "2025-01-21 12:27:05.680 Thread 'MainThread': missing ScriptRunContext! This warning can be ignored when running in bare mode.\n"
     ]
    }
   ],
   "source": [
    "import streamlit as st\n",
    "import pandas as pd\n",
    "from spellchecker import SpellChecker\n",
    "import time\n",
    "import os\n",
    "\n",
    "# Ensure the folder for file uploads exists\n",
    "UPLOAD_FOLDER = 'uploads'\n",
    "if not os.path.exists(UPLOAD_FOLDER):\n",
    "    os.makedirs(UPLOAD_FOLDER)\n",
    "\n",
    "# Streamlit UI\n",
    "st.title('Spell Check Application')\n",
    "\n",
    "# File upload\n",
    "uploaded_file = st.file_uploader(\"Upload an Excel file\", type=\"xlsx\")\n",
    "\n",
    "if uploaded_file:\n",
    "    # Save the file locally\n",
    "    file_path = os.path.join(UPLOAD_FOLDER, uploaded_file.name)\n",
    "    with open(file_path, 'wb') as f:\n",
    "        f.write(uploaded_file.getbuffer())\n",
    "    \n",
    "    # Load the Excel file\n",
    "    df = pd.read_excel(file_path)\n",
    "    columns = df.columns.tolist()\n",
    "    \n",
    "    # Let user select the column to check\n",
    "    column_name = st.selectbox(\"Select a column to check spelling\", columns)\n",
    "\n",
    "    # Initialize the spell checker\n",
    "    spell = SpellChecker()\n",
    "\n",
    "    if st.button(\"Check Spelling\"):\n",
    "        total = len(df[column_name])\n",
    "        corrected_count = 0\n",
    "        \n",
    "        # Progress bar\n",
    "        progress_bar = st.progress(0)\n",
    "        \n",
    "        for i in range(total):\n",
    "            word = df[column_name].iloc[i]\n",
    "            corrected_word = spell.correction(word)\n",
    "            if word != corrected_word:\n",
    "                df.at[i, column_name] = corrected_word\n",
    "            corrected_count += 1\n",
    "            \n",
    "            # Update progress\n",
    "            progress = (i + 1) / total\n",
    "            progress_bar.progress(progress)\n",
    "\n",
    "            time.sleep(0.05)  # Simulating delay\n",
    "        \n",
    "        # Save the corrected file\n",
    "        corrected_file_path = os.path.join(UPLOAD_FOLDER, f\"corrected_{uploaded_file.name}\")\n",
    "        df.to_excel(corrected_file_path, index=False)\n",
    "        \n",
    "        st.success(\"Spell check complete!\")\n",
    "        \n",
    "        # Display download link\n",
    "        st.download_button(\n",
    "            label=\"Download Corrected File\",\n",
    "            data=open(corrected_file_path, 'rb').read(),\n",
    "            file_name=f\"corrected_{uploaded_file.name}\",\n",
    "            mime=\"application/vnd.openxmlformats-officedocument.spreadsheetml.sheet\"\n",
    "        )\n"
   ]
  },
  {
   "cell_type": "code",
   "execution_count": null,
   "id": "2a678d10-6c8e-43d1-bc01-183a170a4ea9",
   "metadata": {},
   "outputs": [],
   "source": []
  }
 ],
 "metadata": {
  "kernelspec": {
   "display_name": "Python 3 (ipykernel)",
   "language": "python",
   "name": "python3"
  },
  "language_info": {
   "codemirror_mode": {
    "name": "ipython",
    "version": 3
   },
   "file_extension": ".py",
   "mimetype": "text/x-python",
   "name": "python",
   "nbconvert_exporter": "python",
   "pygments_lexer": "ipython3",
   "version": "3.13.0"
  }
 },
 "nbformat": 4,
 "nbformat_minor": 5
}
